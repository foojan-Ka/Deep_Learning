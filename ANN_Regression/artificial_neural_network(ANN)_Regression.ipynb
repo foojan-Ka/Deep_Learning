{
 "cells": [
  {
   "cell_type": "markdown",
   "metadata": {
    "colab_type": "text",
    "id": "lP6JLo1tGNBg"
   },
   "source": [
    "# Artificial Neural Network"
   ]
  },
  {
   "cell_type": "markdown",
   "metadata": {
    "colab_type": "text",
    "id": "gWZyYmS_UE_L"
   },
   "source": [
    "### Importing the libraries"
   ]
  },
  {
   "cell_type": "code",
   "execution_count": 1,
   "metadata": {},
   "outputs": [],
   "source": [
    "import numpy as np\n",
    "import pandas as pd\n",
    "import tensorflow as tf"
   ]
  },
  {
   "cell_type": "code",
   "execution_count": 2,
   "metadata": {},
   "outputs": [
    {
     "data": {
      "text/plain": [
       "'2.3.0'"
      ]
     },
     "execution_count": 2,
     "metadata": {},
     "output_type": "execute_result"
    }
   ],
   "source": [
    "tf.__version__"
   ]
  },
  {
   "cell_type": "markdown",
   "metadata": {
    "colab_type": "text",
    "id": "1E0Q3aoKUCRX"
   },
   "source": [
    "## Part 1 - Data Preprocessing"
   ]
  },
  {
   "cell_type": "markdown",
   "metadata": {
    "colab_type": "text",
    "id": "cKWAkFVGUU0Z"
   },
   "source": [
    "### Importing the dataset"
   ]
  },
  {
   "cell_type": "code",
   "execution_count": 3,
   "metadata": {},
   "outputs": [],
   "source": [
    "dataset= pd.read_excel(\"Folds5x2_pp.xlsx\")\n",
    "x= dataset.iloc[:, :-1].values\n",
    "y= dataset.iloc[:, -1].values"
   ]
  },
  {
   "cell_type": "code",
   "execution_count": 4,
   "metadata": {},
   "outputs": [
    {
     "name": "stdout",
     "output_type": "stream",
     "text": [
      "[[  14.96   41.76 1024.07   73.17]\n",
      " [  25.18   62.96 1020.04   59.08]\n",
      " [   5.11   39.4  1012.16   92.14]\n",
      " ...\n",
      " [  31.32   74.33 1012.92   36.48]\n",
      " [  24.48   69.45 1013.86   62.39]\n",
      " [  21.6    62.52 1017.23   67.87]]\n"
     ]
    }
   ],
   "source": [
    "print(x)"
   ]
  },
  {
   "cell_type": "code",
   "execution_count": 5,
   "metadata": {},
   "outputs": [
    {
     "name": "stdout",
     "output_type": "stream",
     "text": [
      "[463.26 444.37 488.56 ... 429.57 435.74 453.28]\n"
     ]
    }
   ],
   "source": [
    "print(y)"
   ]
  },
  {
   "cell_type": "markdown",
   "metadata": {
    "colab_type": "text",
    "id": "vHol938cW8zd"
   },
   "source": [
    "### Splitting the dataset into the Training set and Test set"
   ]
  },
  {
   "cell_type": "code",
   "execution_count": 6,
   "metadata": {},
   "outputs": [],
   "source": [
    "from sklearn.model_selection import train_test_split\n",
    "x_train, x_test, y_train, y_test= train_test_split(x, y, test_size= 0.2, random_state=0)\n",
    "y_train= y_train.reshape(len(y_train), 1)"
   ]
  },
  {
   "cell_type": "markdown",
   "metadata": {
    "colab_type": "text",
    "id": "RE_FcHyfV3TQ"
   },
   "source": [
    "### Feature Scaling"
   ]
  },
  {
   "cell_type": "code",
   "execution_count": 7,
   "metadata": {},
   "outputs": [],
   "source": [
    "from sklearn.preprocessing import StandardScaler\n",
    "sc_x= StandardScaler()\n",
    "sc_y= StandardScaler()\n",
    "x_train= sc_x.fit_transform(x_train)\n",
    "y_train= sc_y.fit_transform(y_train)\n",
    "x_test= sc_x.transform(x_test)"
   ]
  },
  {
   "cell_type": "markdown",
   "metadata": {
    "colab_type": "text",
    "id": "-zfEzkRVXIwF"
   },
   "source": [
    "## Part 2 - Building the ANN"
   ]
  },
  {
   "cell_type": "markdown",
   "metadata": {
    "colab_type": "text",
    "id": "KvdeScabXtlB"
   },
   "source": [
    "### Initializing the ANN"
   ]
  },
  {
   "cell_type": "code",
   "execution_count": 8,
   "metadata": {},
   "outputs": [],
   "source": [
    "ann= tf.keras.models.Sequential()"
   ]
  },
  {
   "cell_type": "markdown",
   "metadata": {
    "colab_type": "text",
    "id": "rP6urV6SX7kS"
   },
   "source": [
    "### Adding the input layer and the first hidden layer"
   ]
  },
  {
   "cell_type": "code",
   "execution_count": 9,
   "metadata": {},
   "outputs": [],
   "source": [
    "ann.add(tf.keras.layers.Dense(units=6, activation=\"relu\"))"
   ]
  },
  {
   "cell_type": "markdown",
   "metadata": {
    "colab_type": "text",
    "id": "BELWAc_8YJze"
   },
   "source": [
    "### Adding the second hidden layer"
   ]
  },
  {
   "cell_type": "code",
   "execution_count": 10,
   "metadata": {},
   "outputs": [],
   "source": [
    "ann.add(tf.keras.layers.Dense(units=6, activation=\"relu\"))"
   ]
  },
  {
   "cell_type": "markdown",
   "metadata": {
    "colab_type": "text",
    "id": "OyNEe6RXYcU4"
   },
   "source": [
    "### Adding the output layer"
   ]
  },
  {
   "cell_type": "code",
   "execution_count": 11,
   "metadata": {},
   "outputs": [],
   "source": [
    "ann.add(tf.keras.layers.Dense(units=1))"
   ]
  },
  {
   "cell_type": "markdown",
   "metadata": {
    "colab_type": "text",
    "id": "JT4u2S1_Y4WG"
   },
   "source": [
    "## Part 3 - Training the ANN"
   ]
  },
  {
   "cell_type": "markdown",
   "metadata": {
    "colab_type": "text",
    "id": "8GWlJChhY_ZI"
   },
   "source": [
    "### Compiling the ANN"
   ]
  },
  {
   "cell_type": "code",
   "execution_count": 12,
   "metadata": {},
   "outputs": [],
   "source": [
    "ann.compile(optimizer= \"adam\", loss=\"mean_squared_error\")"
   ]
  },
  {
   "cell_type": "markdown",
   "metadata": {
    "colab_type": "text",
    "id": "0QR_G5u7ZLSM"
   },
   "source": [
    "### Training the ANN on the Training set"
   ]
  },
  {
   "cell_type": "code",
   "execution_count": 13,
   "metadata": {},
   "outputs": [
    {
     "name": "stdout",
     "output_type": "stream",
     "text": [
      "Epoch 1/100\n",
      "240/240 [==============================] - 0s 734us/step - loss: 0.6403\n",
      "Epoch 2/100\n",
      "240/240 [==============================] - 0s 726us/step - loss: 0.1912\n",
      "Epoch 3/100\n",
      "240/240 [==============================] - 0s 742us/step - loss: 0.1167\n",
      "Epoch 4/100\n",
      "240/240 [==============================] - 0s 730us/step - loss: 0.0987\n",
      "Epoch 5/100\n",
      "240/240 [==============================] - 0s 838us/step - loss: 0.0900\n",
      "Epoch 6/100\n",
      "240/240 [==============================] - 0s 784us/step - loss: 0.0844\n",
      "Epoch 7/100\n",
      "240/240 [==============================] - 0s 726us/step - loss: 0.0798\n",
      "Epoch 8/100\n",
      "240/240 [==============================] - 0s 751us/step - loss: 0.0763\n",
      "Epoch 9/100\n",
      "240/240 [==============================] - 0s 850us/step - loss: 0.0733\n",
      "Epoch 10/100\n",
      "240/240 [==============================] - 0s 700us/step - loss: 0.0708\n",
      "Epoch 11/100\n",
      "240/240 [==============================] - 0s 717us/step - loss: 0.0690\n",
      "Epoch 12/100\n",
      "240/240 [==============================] - 0s 842us/step - loss: 0.0675\n",
      "Epoch 13/100\n",
      "240/240 [==============================] - 0s 830us/step - loss: 0.0666\n",
      "Epoch 14/100\n",
      "240/240 [==============================] - 0s 751us/step - loss: 0.0654\n",
      "Epoch 15/100\n",
      "240/240 [==============================] - 0s 734us/step - loss: 0.0648\n",
      "Epoch 16/100\n",
      "240/240 [==============================] - 0s 767us/step - loss: 0.0642\n",
      "Epoch 17/100\n",
      "240/240 [==============================] - 0s 771us/step - loss: 0.0636\n",
      "Epoch 18/100\n",
      "240/240 [==============================] - 0s 746us/step - loss: 0.0634\n",
      "Epoch 19/100\n",
      "240/240 [==============================] - 0s 759us/step - loss: 0.0631\n",
      "Epoch 20/100\n",
      "240/240 [==============================] - 0s 755us/step - loss: 0.0629\n",
      "Epoch 21/100\n",
      "240/240 [==============================] - 0s 738us/step - loss: 0.0625\n",
      "Epoch 22/100\n",
      "240/240 [==============================] - 0s 742us/step - loss: 0.0623\n",
      "Epoch 23/100\n",
      "240/240 [==============================] - 0s 751us/step - loss: 0.0621\n",
      "Epoch 24/100\n",
      "240/240 [==============================] - 0s 780us/step - loss: 0.0619\n",
      "Epoch 25/100\n",
      "240/240 [==============================] - 0s 867us/step - loss: 0.0615\n",
      "Epoch 26/100\n",
      "240/240 [==============================] - 0s 821us/step - loss: 0.0614\n",
      "Epoch 27/100\n",
      "240/240 [==============================] - 0s 751us/step - loss: 0.0612\n",
      "Epoch 28/100\n",
      "240/240 [==============================] - 0s 755us/step - loss: 0.0609\n",
      "Epoch 29/100\n",
      "240/240 [==============================] - 0s 826us/step - loss: 0.0609\n",
      "Epoch 30/100\n",
      "240/240 [==============================] - 0s 859us/step - loss: 0.0609\n",
      "Epoch 31/100\n",
      "240/240 [==============================] - 0s 734us/step - loss: 0.0608\n",
      "Epoch 32/100\n",
      "240/240 [==============================] - 0s 742us/step - loss: 0.0606\n",
      "Epoch 33/100\n",
      "240/240 [==============================] - 0s 734us/step - loss: 0.0605\n",
      "Epoch 34/100\n",
      "240/240 [==============================] - 0s 746us/step - loss: 0.0603\n",
      "Epoch 35/100\n",
      "240/240 [==============================] - 0s 796us/step - loss: 0.0602\n",
      "Epoch 36/100\n",
      "240/240 [==============================] - 0s 746us/step - loss: 0.0602\n",
      "Epoch 37/100\n",
      "240/240 [==============================] - 0s 763us/step - loss: 0.0602\n",
      "Epoch 38/100\n",
      "240/240 [==============================] - 0s 751us/step - loss: 0.0601\n",
      "Epoch 39/100\n",
      "240/240 [==============================] - 0s 901us/step - loss: 0.0601\n",
      "Epoch 40/100\n",
      "240/240 [==============================] - 0s 938us/step - loss: 0.0600\n",
      "Epoch 41/100\n",
      "240/240 [==============================] - 0s 876us/step - loss: 0.0601\n",
      "Epoch 42/100\n",
      "240/240 [==============================] - 0s 917us/step - loss: 0.0600\n",
      "Epoch 43/100\n",
      "240/240 [==============================] - 0s 817us/step - loss: 0.0600 0s - loss: 0.061\n",
      "Epoch 44/100\n",
      "240/240 [==============================] - 0s 867us/step - loss: 0.0600\n",
      "Epoch 45/100\n",
      "240/240 [==============================] - 0s 846us/step - loss: 0.0599\n",
      "Epoch 46/100\n",
      "240/240 [==============================] - 0s 876us/step - loss: 0.0601\n",
      "Epoch 47/100\n",
      "240/240 [==============================] - 0s 821us/step - loss: 0.0598\n",
      "Epoch 48/100\n",
      "240/240 [==============================] - 0s 888us/step - loss: 0.0599\n",
      "Epoch 49/100\n",
      "240/240 [==============================] - 0s 776us/step - loss: 0.0599\n",
      "Epoch 50/100\n",
      "240/240 [==============================] - 0s 730us/step - loss: 0.0597\n",
      "Epoch 51/100\n",
      "240/240 [==============================] - 0s 730us/step - loss: 0.0596\n",
      "Epoch 52/100\n",
      "240/240 [==============================] - 0s 734us/step - loss: 0.0599\n",
      "Epoch 53/100\n",
      "240/240 [==============================] - 0s 721us/step - loss: 0.0600\n",
      "Epoch 54/100\n",
      "240/240 [==============================] - 0s 688us/step - loss: 0.0598\n",
      "Epoch 55/100\n",
      "240/240 [==============================] - 0s 734us/step - loss: 0.0597\n",
      "Epoch 56/100\n",
      "240/240 [==============================] - 0s 700us/step - loss: 0.0598\n",
      "Epoch 57/100\n",
      "240/240 [==============================] - 0s 705us/step - loss: 0.0598\n",
      "Epoch 58/100\n",
      "240/240 [==============================] - 0s 705us/step - loss: 0.0598\n",
      "Epoch 59/100\n",
      "240/240 [==============================] - 0s 746us/step - loss: 0.0598\n",
      "Epoch 60/100\n",
      "240/240 [==============================] - 0s 892us/step - loss: 0.0596\n",
      "Epoch 61/100\n",
      "240/240 [==============================] - 0s 721us/step - loss: 0.0598\n",
      "Epoch 62/100\n",
      "240/240 [==============================] - 0s 730us/step - loss: 0.0596\n",
      "Epoch 63/100\n",
      "240/240 [==============================] - 0s 742us/step - loss: 0.0596\n",
      "Epoch 64/100\n",
      "240/240 [==============================] - 0s 767us/step - loss: 0.0596\n",
      "Epoch 65/100\n",
      "240/240 [==============================] - 0s 809us/step - loss: 0.0598\n",
      "Epoch 66/100\n",
      "240/240 [==============================] - 0s 880us/step - loss: 0.0598\n",
      "Epoch 67/100\n",
      "240/240 [==============================] - 0s 909us/step - loss: 0.0597\n",
      "Epoch 68/100\n",
      "240/240 [==============================] - 0s 667us/step - loss: 0.0597\n",
      "Epoch 69/100\n",
      "240/240 [==============================] - 0s 680us/step - loss: 0.0595\n",
      "Epoch 70/100\n",
      "240/240 [==============================] - 0s 659us/step - loss: 0.0596\n",
      "Epoch 71/100\n",
      "240/240 [==============================] - 0s 676us/step - loss: 0.0595\n",
      "Epoch 72/100\n",
      "240/240 [==============================] - 0s 667us/step - loss: 0.0596\n",
      "Epoch 73/100\n",
      "240/240 [==============================] - 0s 688us/step - loss: 0.0597\n",
      "Epoch 74/100\n",
      "240/240 [==============================] - 0s 751us/step - loss: 0.0596\n",
      "Epoch 75/100\n",
      "240/240 [==============================] - 0s 896us/step - loss: 0.0596\n",
      "Epoch 76/100\n",
      "240/240 [==============================] - 0s 888us/step - loss: 0.0597\n",
      "Epoch 77/100\n",
      "240/240 [==============================] - 0s 767us/step - loss: 0.0596\n",
      "Epoch 78/100\n",
      "240/240 [==============================] - 0s 767us/step - loss: 0.0594\n",
      "Epoch 79/100\n",
      "240/240 [==============================] - 0s 788us/step - loss: 0.0595\n",
      "Epoch 80/100\n",
      "240/240 [==============================] - 0s 1ms/step - loss: 0.0597\n",
      "Epoch 81/100\n",
      "240/240 [==============================] - 0s 905us/step - loss: 0.0594\n",
      "Epoch 82/100\n",
      "240/240 [==============================] - 0s 784us/step - loss: 0.0594\n",
      "Epoch 83/100\n",
      "240/240 [==============================] - 0s 792us/step - loss: 0.0594\n",
      "Epoch 84/100\n",
      "240/240 [==============================] - 0s 867us/step - loss: 0.0595\n",
      "Epoch 85/100\n",
      "240/240 [==============================] - 0s 1ms/step - loss: 0.0594\n",
      "Epoch 86/100\n",
      "240/240 [==============================] - 0s 769us/step - loss: 0.0594\n",
      "Epoch 87/100\n",
      "240/240 [==============================] - 0s 726us/step - loss: 0.0594\n",
      "Epoch 88/100\n",
      "240/240 [==============================] - 0s 801us/step - loss: 0.0594\n",
      "Epoch 89/100\n",
      "240/240 [==============================] - 0s 713us/step - loss: 0.0595\n",
      "Epoch 90/100\n",
      "240/240 [==============================] - 0s 730us/step - loss: 0.0593\n",
      "Epoch 91/100\n",
      "240/240 [==============================] - 0s 992us/step - loss: 0.0594\n",
      "Epoch 92/100\n",
      "240/240 [==============================] - 0s 734us/step - loss: 0.0594\n",
      "Epoch 93/100\n",
      "240/240 [==============================] - 0s 726us/step - loss: 0.0595\n",
      "Epoch 94/100\n",
      "240/240 [==============================] - 0s 671us/step - loss: 0.0593\n",
      "Epoch 95/100\n",
      "240/240 [==============================] - 0s 721us/step - loss: 0.0594\n",
      "Epoch 96/100\n",
      "240/240 [==============================] - 0s 701us/step - loss: 0.0592\n",
      "Epoch 97/100\n"
     ]
    },
    {
     "name": "stdout",
     "output_type": "stream",
     "text": [
      "240/240 [==============================] - 0s 1ms/step - loss: 0.0592\n",
      "Epoch 98/100\n",
      "240/240 [==============================] - 0s 713us/step - loss: 0.0593\n",
      "Epoch 99/100\n",
      "240/240 [==============================] - 0s 793us/step - loss: 0.0594\n",
      "Epoch 100/100\n",
      "240/240 [==============================] - 0s 688us/step - loss: 0.0590\n"
     ]
    },
    {
     "data": {
      "text/plain": [
       "<tensorflow.python.keras.callbacks.History at 0x8f459fdc0>"
      ]
     },
     "execution_count": 13,
     "metadata": {},
     "output_type": "execute_result"
    }
   ],
   "source": [
    "ann.fit(x_train, y_train, batch_size=32, epochs=100)"
   ]
  },
  {
   "cell_type": "markdown",
   "metadata": {
    "colab_type": "text",
    "id": "tJj5k2MxZga3"
   },
   "source": [
    "## Part 4 - Making the predictions and evaluating the model"
   ]
  },
  {
   "cell_type": "markdown",
   "metadata": {
    "colab_type": "text",
    "id": "u7yx47jPZt11"
   },
   "source": [
    "### Predicting the Test set results"
   ]
  },
  {
   "cell_type": "code",
   "execution_count": 14,
   "metadata": {},
   "outputs": [
    {
     "name": "stdout",
     "output_type": "stream",
     "text": [
      "[[432.5884 ]\n",
      " [456.1355 ]\n",
      " [462.29303]\n",
      " ...\n",
      " [467.70157]\n",
      " [438.40277]\n",
      " [460.77475]]\n"
     ]
    }
   ],
   "source": [
    "y_pred= ann.predict(x_test)\n",
    "print(sc_y.inverse_transform(y_pred))"
   ]
  },
  {
   "cell_type": "code",
   "execution_count": 15,
   "metadata": {},
   "outputs": [
    {
     "name": "stdout",
     "output_type": "stream",
     "text": [
      "[431.23 460.01 461.14 ... 473.26 438.   463.28]\n"
     ]
    }
   ],
   "source": [
    "print(y_test)"
   ]
  },
  {
   "cell_type": "code",
   "execution_count": 17,
   "metadata": {},
   "outputs": [
    {
     "data": {
      "text/plain": [
       "0.9448021545583257"
      ]
     },
     "execution_count": 17,
     "metadata": {},
     "output_type": "execute_result"
    }
   ],
   "source": [
    "from sklearn.metrics import r2_score\n",
    "r2_score(y_test, sc_y.inverse_transform(y_pred))"
   ]
  },
  {
   "cell_type": "code",
   "execution_count": null,
   "metadata": {},
   "outputs": [],
   "source": []
  }
 ],
 "metadata": {
  "colab": {
   "authorship_tag": "ABX9TyMeRFWFoGrdaL5S3dx5MWmb",
   "collapsed_sections": [],
   "name": "artificial_neural_network.ipynb",
   "provenance": [],
   "toc_visible": true
  },
  "kernelspec": {
   "display_name": "Python 3 (ipykernel)",
   "language": "python",
   "name": "python3"
  },
  "language_info": {
   "codemirror_mode": {
    "name": "ipython",
    "version": 3
   },
   "file_extension": ".py",
   "mimetype": "text/x-python",
   "name": "python",
   "nbconvert_exporter": "python",
   "pygments_lexer": "ipython3",
   "version": "3.8.11"
  }
 },
 "nbformat": 4,
 "nbformat_minor": 1
}
